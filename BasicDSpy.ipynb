{
 "cells": [
  {
   "cell_type": "markdown",
   "metadata": {},
   "source": [
    "# list\n"
   ]
  },
  {
   "cell_type": "code",
   "execution_count": 1,
   "metadata": {},
   "outputs": [
    {
     "name": "stdout",
     "output_type": "stream",
     "text": [
      "3\n",
      "2\n",
      "4\n",
      "3\n",
      "5\n"
     ]
    },
    {
     "data": {
      "text/plain": [
       "[3, 2, 4, 3, 5]"
      ]
     },
     "execution_count": 1,
     "metadata": {},
     "output_type": "execute_result"
    }
   ],
   "source": [
    "li=[]\n",
    "for i in range(5):\n",
    "    li.append(int(input()))\n",
    "    \n",
    "li"
   ]
  },
  {
   "cell_type": "code",
   "execution_count": 2,
   "metadata": {},
   "outputs": [
    {
     "data": {
      "text/plain": [
       "[3, 2, 4, 3, 5]"
      ]
     },
     "execution_count": 2,
     "metadata": {},
     "output_type": "execute_result"
    }
   ],
   "source": [
    "[i for i in li]"
   ]
  },
  {
   "cell_type": "code",
   "execution_count": 3,
   "metadata": {},
   "outputs": [
    {
     "data": {
      "text/plain": [
       "[1, 'hi', 'hi']"
      ]
     },
     "execution_count": 3,
     "metadata": {},
     "output_type": "execute_result"
    }
   ],
   "source": [
    "li1=[1,\"hi\",'hi']\n",
    "li1"
   ]
  },
  {
   "cell_type": "code",
   "execution_count": 4,
   "metadata": {},
   "outputs": [
    {
     "data": {
      "text/plain": [
       "[1, 'hi']"
      ]
     },
     "execution_count": 4,
     "metadata": {},
     "output_type": "execute_result"
    }
   ],
   "source": [
    "li1.remove(\"hi\")\n",
    "li1"
   ]
  },
  {
   "cell_type": "code",
   "execution_count": 5,
   "metadata": {},
   "outputs": [
    {
     "data": {
      "text/plain": [
       "[1, 'hi']"
      ]
     },
     "execution_count": 5,
     "metadata": {},
     "output_type": "execute_result"
    }
   ],
   "source": [
    "copy_li1=li1.copy()\n",
    "copy_li1"
   ]
  },
  {
   "cell_type": "code",
   "execution_count": 6,
   "metadata": {},
   "outputs": [
    {
     "data": {
      "text/plain": [
       "['hi', 1]"
      ]
     },
     "execution_count": 6,
     "metadata": {},
     "output_type": "execute_result"
    }
   ],
   "source": [
    "li1.reverse()\n",
    "li1"
   ]
  },
  {
   "cell_type": "code",
   "execution_count": 7,
   "metadata": {},
   "outputs": [
    {
     "data": {
      "text/plain": [
       "['hi', 1, 3, 4, 5, 'veera']"
      ]
     },
     "execution_count": 7,
     "metadata": {},
     "output_type": "execute_result"
    }
   ],
   "source": [
    "li1.extend([3,4,5,\"veera\"])\n",
    "li1"
   ]
  },
  {
   "cell_type": "code",
   "execution_count": 8,
   "metadata": {},
   "outputs": [
    {
     "ename": "TypeError",
     "evalue": "'<' not supported between instances of 'int' and 'str'",
     "output_type": "error",
     "traceback": [
      "\u001b[1;31m---------------------------------------------------------------------------\u001b[0m",
      "\u001b[1;31mTypeError\u001b[0m                                 Traceback (most recent call last)",
      "\u001b[1;32m<ipython-input-8-03de0b56adce>\u001b[0m in \u001b[0;36m<module>\u001b[1;34m\u001b[0m\n\u001b[1;32m----> 1\u001b[1;33m \u001b[0mli1\u001b[0m\u001b[1;33m.\u001b[0m\u001b[0msort\u001b[0m\u001b[1;33m(\u001b[0m\u001b[1;33m)\u001b[0m\u001b[1;33m\u001b[0m\u001b[1;33m\u001b[0m\u001b[0m\n\u001b[0m\u001b[0;32m      2\u001b[0m \u001b[0mli1\u001b[0m\u001b[1;33m\u001b[0m\u001b[1;33m\u001b[0m\u001b[0m\n",
      "\u001b[1;31mTypeError\u001b[0m: '<' not supported between instances of 'int' and 'str'"
     ]
    }
   ],
   "source": [
    "li1.sort()\n",
    "li1"
   ]
  },
  {
   "cell_type": "markdown",
   "metadata": {},
   "source": [
    "# Tuple\n"
   ]
  },
  {
   "cell_type": "code",
   "execution_count": 9,
   "metadata": {},
   "outputs": [
    {
     "ename": "AttributeError",
     "evalue": "'tuple' object has no attribute 'append'",
     "output_type": "error",
     "traceback": [
      "\u001b[1;31m---------------------------------------------------------------------------\u001b[0m",
      "\u001b[1;31mAttributeError\u001b[0m                            Traceback (most recent call last)",
      "\u001b[1;32m<ipython-input-9-152c381ecc76>\u001b[0m in \u001b[0;36m<module>\u001b[1;34m\u001b[0m\n\u001b[0;32m      1\u001b[0m \u001b[0msample_tup\u001b[0m\u001b[1;33m=\u001b[0m\u001b[1;33m(\u001b[0m\u001b[1;36m1\u001b[0m\u001b[1;33m,\u001b[0m\u001b[1;36m2\u001b[0m\u001b[1;33m,\u001b[0m\u001b[1;36m3\u001b[0m\u001b[1;33m,\u001b[0m\u001b[1;36m4\u001b[0m\u001b[1;33m)\u001b[0m\u001b[1;33m\u001b[0m\u001b[1;33m\u001b[0m\u001b[0m\n\u001b[1;32m----> 2\u001b[1;33m \u001b[0msample_tup\u001b[0m\u001b[1;33m.\u001b[0m\u001b[0mappend\u001b[0m\u001b[1;33m(\u001b[0m\u001b[1;36m4\u001b[0m\u001b[1;33m)\u001b[0m\u001b[1;33m\u001b[0m\u001b[1;33m\u001b[0m\u001b[0m\n\u001b[0m\u001b[0;32m      3\u001b[0m \u001b[0msample_tup\u001b[0m\u001b[1;33m.\u001b[0m\u001b[0minsert\u001b[0m\u001b[1;33m(\u001b[0m\u001b[1;36m1\u001b[0m\u001b[1;33m,\u001b[0m\u001b[1;36m4\u001b[0m\u001b[1;33m)\u001b[0m\u001b[1;33m\u001b[0m\u001b[1;33m\u001b[0m\u001b[0m\n\u001b[0;32m      4\u001b[0m \u001b[0msample_tup\u001b[0m\u001b[1;33m\u001b[0m\u001b[1;33m\u001b[0m\u001b[0m\n",
      "\u001b[1;31mAttributeError\u001b[0m: 'tuple' object has no attribute 'append'"
     ]
    }
   ],
   "source": [
    "sample_tup=(1,2,3,4)\n",
    "sample_tup.append(4)\n",
    "sample_tup.insert(1,4)\n",
    "sample_tup"
   ]
  },
  {
   "cell_type": "markdown",
   "metadata": {},
   "source": [
    "# Arrays"
   ]
  },
  {
   "cell_type": "code",
   "execution_count": 10,
   "metadata": {},
   "outputs": [
    {
     "name": "stdout",
     "output_type": "stream",
     "text": [
      "ENter the range4\n",
      "enter 4 numbers2\n",
      "4\n",
      "5\n",
      "3\n"
     ]
    },
    {
     "data": {
      "text/plain": [
       "[2, 4, 5, 3]"
      ]
     },
     "execution_count": 10,
     "metadata": {},
     "output_type": "execute_result"
    }
   ],
   "source": [
    "print(\"ENter the range\",end=\"\")\n",
    "n=int(input())\n",
    "arr=[]\n",
    "print(\"enter\",n,\"numbers\",end=\"\")\n",
    "for i in range(n):\n",
    "    arr.append(int(input()))\n",
    "arr"
   ]
  },
  {
   "cell_type": "code",
   "execution_count": 11,
   "metadata": {},
   "outputs": [
    {
     "name": "stdout",
     "output_type": "stream",
     "text": [
      "2\n",
      "0\n"
     ]
    },
    {
     "data": {
      "text/plain": [
       "[4, 5, 3]"
      ]
     },
     "execution_count": 11,
     "metadata": {},
     "output_type": "execute_result"
    }
   ],
   "source": [
    "del_ele=int(input())\n",
    "for index in range(len(arr)-1):\n",
    "    if del_ele == arr[index]:\n",
    "        arr.remove(del_ele)\n",
    "        print(index)   \n",
    "arr"
   ]
  },
  {
   "cell_type": "code",
   "execution_count": 12,
   "metadata": {},
   "outputs": [
    {
     "name": "stdout",
     "output_type": "stream",
     "text": [
      "[4, 5, 3]\n",
      "Sorted array [3, 4, 5]\n"
     ]
    }
   ],
   "source": [
    "print(arr)\n",
    "for i in range(len(arr)):\n",
    "    for j in range(i+1,len(arr)):\n",
    "        if arr[i]>arr[j]:\n",
    "            temp=arr[i]\n",
    "            arr[i]=arr[j]\n",
    "            arr[j]=temp\n",
    "print(\"Sorted array\",arr)\n",
    "\n",
    "\n",
    "            \n",
    "\n",
    "\n",
    "        "
   ]
  },
  {
   "cell_type": "code",
   "execution_count": null,
   "metadata": {},
   "outputs": [],
   "source": [
    "# 2d Array"
   ]
  },
  {
   "cell_type": "code",
   "execution_count": 13,
   "metadata": {},
   "outputs": [
    {
     "name": "stdout",
     "output_type": "stream",
     "text": [
      "enter row range2\n",
      "enter col range3\n"
     ]
    },
    {
     "data": {
      "text/plain": [
       "[[0, 0, 0], [0, 1, 2]]"
      ]
     },
     "execution_count": 13,
     "metadata": {},
     "output_type": "execute_result"
    }
   ],
   "source": [
    "row=int(input(\"enter row range\"))\n",
    "col=int(input(\"enter col range\"))\n",
    "arr1=[[0 for i in range(col)] for j in range(row)]\n",
    "for j in range(row):\n",
    "    for i in range(col):\n",
    "        arr1[j][i]=i*j\n",
    "arr1\n",
    "\n"
   ]
  },
  {
   "cell_type": "markdown",
   "metadata": {},
   "source": [
    "# Stacks"
   ]
  },
  {
   "cell_type": "code",
   "execution_count": 14,
   "metadata": {},
   "outputs": [
    {
     "name": "stdout",
     "output_type": "stream",
     "text": [
      "['veera', 'bhadra', 'reddy', 'madithati']\n",
      "['veera', 'bhadra', 'reddy']\n"
     ]
    }
   ],
   "source": [
    "#implementation using List\n",
    "stack=[]\n",
    "stack.append(\"veera\")\n",
    "stack.append(\"bhadra\")\n",
    "stack.append(\"reddy\")                           #Time complexity of append and pop is 0(n)\n",
    "stack.append(\"madithati\")\n",
    "print(stack)\n",
    "stack.pop()\n",
    "print(stack)\n"
   ]
  },
  {
   "cell_type": "code",
   "execution_count": 15,
   "metadata": {},
   "outputs": [
    {
     "name": "stdout",
     "output_type": "stream",
     "text": [
      "deque(['madithati', 'bhadra', 'reddy'])\n",
      "deque(['madithati', 'bhadra'])\n"
     ]
    }
   ],
   "source": [
    "#Implementation using collection.deque\n",
    "\n",
    "from collections import deque\n",
    "stackdq=deque()\n",
    "stackdq.append(\"veera\")\n",
    "stackdq.append(\"bhadra\")                       #Time complexity of append and pop is 0(1)\n",
    "stackdq.append(\"reddy\")\n",
    "stackdq[0]=\"madithati\"\n",
    "print(stackdq)\n",
    "stackdq.pop()\n",
    "print(stackdq)\n",
    "\n",
    "\n",
    "\n"
   ]
  },
  {
   "cell_type": "code",
   "execution_count": 16,
   "metadata": {},
   "outputs": [
    {
     "name": "stdout",
     "output_type": "stream",
     "text": [
      "<queue.LifoQueue object at 0x0000026053C93988>\n",
      "reddy\n",
      "2\n",
      "False\n"
     ]
    }
   ],
   "source": [
    "#Implementation using queue\n",
    "\n",
    "from queue import LifoQueue\n",
    "stackq=LifoQueue(maxsize=4)\n",
    "stackq.put(\"veera\")\n",
    "stackq.put(\"bhadra\")\n",
    "stackq.put(\"reddy\")\n",
    "print(stackq)\n",
    "print(stackq.get())\n",
    "print(stackq.qsize())\n",
    "print(stackq.empty())\n"
   ]
  },
  {
   "cell_type": "markdown",
   "metadata": {},
   "source": [
    "# Queue"
   ]
  },
  {
   "cell_type": "code",
   "execution_count": 17,
   "metadata": {},
   "outputs": [
    {
     "name": "stdout",
     "output_type": "stream",
     "text": [
      "['veera', 'bhadra', 'reddy']\n",
      "['bhadra', 'reddy']\n"
     ]
    }
   ],
   "source": [
    "class operationsQueue:\n",
    "    def __init__(self):\n",
    "        self.queue=[]\n",
    "    def enqueue(self,data):\n",
    "        self.queue.append(data)\n",
    "    def dequeue(self):\n",
    "        if(len(self.queue)) <1:\n",
    "            return None\n",
    "        else:\n",
    "            self.queue.pop(0)\n",
    "    def display(self):\n",
    "        print(self.queue)\n",
    "oq=operationsQueue()\n",
    "oq.enqueue(\"veera\")\n",
    "oq.enqueue(\"bhadra\")\n",
    "oq.enqueue(\"reddy\")\n",
    "oq.display()\n",
    "oq.dequeue()\n",
    "oq.display()\n",
    "            \n",
    "    "
   ]
  },
  {
   "cell_type": "markdown",
   "metadata": {},
   "source": [
    "Circualr Queue"
   ]
  },
  {
   "cell_type": "code",
   "execution_count": 18,
   "metadata": {},
   "outputs": [
    {
     "name": "stdout",
     "output_type": "stream",
     "text": [
      "cqueue is full\n",
      "2 members are in line 4 5 \n",
      "after dequeue\n",
      "members are in line 4 5 \n",
      "members are in line 4 5 9 \n"
     ]
    }
   ],
   "source": [
    "class CircularQueue:\n",
    "    def __init__(self,capacity):\n",
    "        self.cqueue=[None]*capacity\n",
    "        self.head=self.tail=-1\n",
    "        self.capacity=capacity\n",
    "    def enqueue(self,data):\n",
    "        if((self.tail+1)%self.capacity==self.head):\n",
    "            print(\"cqueue is full\")\n",
    "        elif(self.head==-1):\n",
    "            self.head=0\n",
    "            self.tail=0\n",
    "            self.cqueue[self.tail]=data\n",
    "        else:\n",
    "            self.tail=(self.tail+1)%self.capacity\n",
    "            self.cqueue[self.tail]=data\n",
    "        \n",
    "    def dequeue(self):\n",
    "        if(self.head==-1):\n",
    "            print(\"cqueue is empty\")\n",
    "        elif(self.head==self.tail):\n",
    "            temp=self.cqueue[self.head]\n",
    "            self.head=-1\n",
    "            self.head=-1\n",
    "            return temp\n",
    "        else:\n",
    "            temp=self.cqueue[self.head]\n",
    "            self.head=(self.head+1) % self.capacity\n",
    "            return temp\n",
    "    \n",
    "    def printcqueue(self):\n",
    "        if(self.head==-1):\n",
    "            print(\"No element is present\")\n",
    "        elif(self.tail>=self.head):\n",
    "            for i in range(self.head,self.tail+1):\n",
    "                print(self.cqueue[i],end=\" \")\n",
    "            print()\n",
    "        else:\n",
    "            for i in range(self.head,self.capacity):\n",
    "                print(self.cqueue[i],end=\" \")\n",
    "            for i in range(0,self.tail+1):\n",
    "                print(self.cqueue[i],end=\" \")\n",
    "            print()\n",
    "\n",
    "obj=CircularQueue(5)\n",
    "obj.enqueue(2)\n",
    "obj.enqueue(\"members\")\n",
    "obj.enqueue(\"are in line\")\n",
    "obj.enqueue(4)\n",
    "obj.enqueue(5)\n",
    "obj.enqueue(7)\n",
    "obj.printcqueue()\n",
    "print(\"after dequeue\")\n",
    "obj.dequeue()\n",
    "obj.printcqueue()\n",
    "obj.enqueue(9)\n",
    "obj.printcqueue()\n",
    "            \n",
    "        \n",
    "        "
   ]
  },
  {
   "cell_type": "markdown",
   "metadata": {},
   "source": [
    "# Linked List"
   ]
  },
  {
   "cell_type": "code",
   "execution_count": 19,
   "metadata": {},
   "outputs": [
    {
     "name": "stdout",
     "output_type": "stream",
     "text": [
      "11 20 30 \n",
      "1 11 20 30 \n",
      "1 11 20 30 40 \n",
      "1 60 11 20 30 40 \n",
      "60 11 20 30 40 \n",
      "60 11 20 30 \n",
      "60 20 30 "
     ]
    }
   ],
   "source": [
    "#Creating node\n",
    "class Node:\n",
    "    def __init__(self,data):\n",
    "        self.data=data\n",
    "        self.link=None\n",
    "class SLL:\n",
    "    def __init__(self):\n",
    "        self.head=None\n",
    "    def traversal(self):\n",
    "        if self.head is None:\n",
    "            print(\"empty\")\n",
    "        else:\n",
    "            a=self.head           #a=sl.head\n",
    "            while a.link is not None:   #a=sll.head=n1\n",
    "                print(a.data,end=\" \")  # a.data=n1.data\n",
    "                a=a.link               #a=n1.link\n",
    "    def insrt_Begin(self,data):\n",
    "        print()\n",
    "        nb=Node(data)\n",
    "        nb.link=self.head\n",
    "        self.head=nb\n",
    "    def insrt_end(self,data):\n",
    "        print()\n",
    "        ne=Node(data)\n",
    "        temp=self.head\n",
    "        while temp.link is not None:\n",
    "            temp=temp.link\n",
    "        temp.link=ne\n",
    "    def insrt_position(self,data,position):\n",
    "        print() \n",
    "        np=Node(data)\n",
    "        temp=self.head\n",
    "        for i in range(1,position-1):\n",
    "            temp=temp.link\n",
    "        np.link=temp.link\n",
    "        temp.link=np\n",
    "    def del_begin(self):\n",
    "        print()\n",
    "        a=self.head\n",
    "        self.head=a.link\n",
    "        a.link=None\n",
    "    def del_end(self):\n",
    "        print()\n",
    "        prev=self.head\n",
    "        a=prev.link\n",
    "        while a.link is not None:\n",
    "            a=a.link\n",
    "            prev=prev.link\n",
    "        prev.link=None\n",
    "    def del_position(self,position):\n",
    "        print()\n",
    "        prev=self.head\n",
    "        a=prev.link\n",
    "        for i in range(1,position-1):\n",
    "            a=a.link\n",
    "            prev=prev.link\n",
    "        prev.link=a.link\n",
    "        a.link=None\n",
    "        \n",
    "        \n",
    "sl=SLL()\n",
    "n1=Node(11)\n",
    "sl.head=n1\n",
    "n2=Node(20)\n",
    "n1.link=n2\n",
    "n3=Node(30)\n",
    "n2.link=n3\n",
    "n4=Node(40)\n",
    "n3.link=n4\n",
    "sl.traversal()\n",
    "sl.insrt_Begin(1)\n",
    "sl.traversal()\n",
    "sl.insrt_end(50)\n",
    "sl.traversal()\n",
    "sl.insrt_position(60,2)\n",
    "sl.traversal()\n",
    "sl.del_begin()\n",
    "sl.traversal()\n",
    "sl.del_end()\n",
    "sl.traversal()\n",
    "sl.del_position(2)\n",
    "sl.traversal()\n",
    "                \n",
    "            \n",
    "        "
   ]
  },
  {
   "cell_type": "raw",
   "metadata": {},
   "source": [
    "Doubly Linked List"
   ]
  },
  {
   "cell_type": "code",
   "execution_count": 49,
   "metadata": {},
   "outputs": [
    {
     "name": "stdout",
     "output_type": "stream",
     "text": [
      "\n",
      "5 1 2 3 4 \n",
      "5 1 2 3 4 6 \n",
      "5 7 1 2 3 4 6 Deleting 1st element\n",
      "7 1 2 3 4 6 \n",
      "deleting last element\n",
      "7 1 2 3 4 \n",
      "deleting a element at 2 position\n",
      "7 2 3 4 \n",
      "4 3 2 7 "
     ]
    }
   ],
   "source": [
    "class Node:\n",
    "    def __init__(self,data):\n",
    "        self.data=data\n",
    "        self.prev=None\n",
    "        self.next=None\n",
    "class Dll:\n",
    "    def __init__(self):\n",
    "        self.head=None\n",
    "    def forward_traversal(self):\n",
    "        if self.head is None:\n",
    "            print(\"DLL is empty\")\n",
    "        else:\n",
    "            temp=self.head\n",
    "            while temp is not None:\n",
    "                print(temp.data,end=\" \")\n",
    "                temp=temp.next\n",
    "                \n",
    "    def backward_traversal(self):\n",
    "        print()\n",
    "        if self.head is None:\n",
    "            print(\"DLL is empty\")\n",
    "        else:\n",
    "            temp=self.head\n",
    "            while temp.next is not None:\n",
    "                temp=temp.next\n",
    "            while temp is not None:\n",
    "                print(temp.data,end=\" \")\n",
    "                temp=temp.prev\n",
    "    def insrt_begin(self,data):\n",
    "        print()\n",
    "        nb=Node(data)\n",
    "        temp=self.head\n",
    "        temp.prev=nb\n",
    "        nb.next=temp\n",
    "        self.head=nb\n",
    "    def insrt_end(self,data):\n",
    "        print()\n",
    "        ne=Node(data)\n",
    "        temp=self.head\n",
    "        while temp.next is not None:\n",
    "            temp=temp.next\n",
    "        temp.next=ne\n",
    "        ne.prev=temp\n",
    "        ne.next=None\n",
    "    def insrt_position(self,data,position):\n",
    "        print()\n",
    "        np=Node(data)\n",
    "        temp=self.head\n",
    "        for i in range(1,position-1):\n",
    "            temp=temp.next\n",
    "        np.prev=temp\n",
    "        np.next=temp.next\n",
    "        temp.next.prev=np\n",
    "        temp.next=np\n",
    "    def del_begin(self):\n",
    "        print()\n",
    "        print(\"Deleting 1st element\")\n",
    "        temp=self.head\n",
    "        self.head=temp.next\n",
    "        temp.next=None\n",
    "        self.head.prev=None\n",
    "    def del_end(self):\n",
    "        print()\n",
    "        print(\"deleting last element\")\n",
    "        temp=self.head.next\n",
    "        before_ele=self.head\n",
    "        while temp.next is not None:\n",
    "            temp=temp.next\n",
    "            before_ele=before_ele.next\n",
    "        before_ele.next=None\n",
    "        temp.prev=None\n",
    "    def del_position(self,position):\n",
    "        print()\n",
    "        print(\"deleting a element at\",position,\"position\")\n",
    "        temp=self.head.next\n",
    "        before_ele=self.head\n",
    "        for i in range(1,position-1):\n",
    "            temp=temp.next\n",
    "            before_ele=before_ele.next\n",
    "        before_ele.next=temp.next\n",
    "        temp.next.prev=before_ele\n",
    "        temp.next=None\n",
    "        temp.prev=None\n",
    "        \n",
    "        \n",
    "            \n",
    "\n",
    "n1=Node(1)\n",
    "dll=Dll()\n",
    "dll.head=n1\n",
    "n2=Node(2)\n",
    "n2.prev=n1\n",
    "n1.next=n2\n",
    "n3=Node(3)\n",
    "n3.prev=n2\n",
    "n2.next=n3\n",
    "n4=Node(4)\n",
    "n4.prev=n3\n",
    "n3.next=n4\n",
    "dll.insrt_begin(5)\n",
    "dll.forward_traversal()\n",
    "dll.insrt_end(6)\n",
    "dll.forward_traversal()\n",
    "dll.insrt_position(7,2)\n",
    "dll.forward_traversal()\n",
    "dll.del_begin()\n",
    "dll.forward_traversal()\n",
    "dll.del_end()\n",
    "dll.forward_traversal()\n",
    "dll.del_position(2)\n",
    "dll.forward_traversal()\n",
    "dll.backward_traversal()"
   ]
  },
  {
   "cell_type": "code",
   "execution_count": null,
   "metadata": {},
   "outputs": [],
   "source": []
  }
 ],
 "metadata": {
  "kernelspec": {
   "display_name": "Python 3",
   "language": "python",
   "name": "python3"
  },
  "language_info": {
   "codemirror_mode": {
    "name": "ipython",
    "version": 3
   },
   "file_extension": ".py",
   "mimetype": "text/x-python",
   "name": "python",
   "nbconvert_exporter": "python",
   "pygments_lexer": "ipython3",
   "version": "3.7.6"
  }
 },
 "nbformat": 4,
 "nbformat_minor": 4
}
